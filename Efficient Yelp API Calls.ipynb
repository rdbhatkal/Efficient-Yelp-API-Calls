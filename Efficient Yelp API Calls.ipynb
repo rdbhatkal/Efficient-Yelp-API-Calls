{
 "cells": [
  {
   "cell_type": "code",
   "execution_count": 1,
   "id": "a88c10d2",
   "metadata": {},
   "outputs": [],
   "source": [
    "# Standard Imports\n",
    "import numpy as np\n",
    "import pandas as pd\n",
    "import matplotlib.pyplot as plt\n",
    "import seaborn as sns\n",
    "# Additional Imports\n",
    "import os, json, math, time\n",
    "from yelpapi import YelpAPI\n",
    "from tqdm.notebook import tqdm_notebook"
   ]
  },
  {
   "cell_type": "code",
   "execution_count": 2,
   "id": "1a4d3e23",
   "metadata": {},
   "outputs": [
    {
     "data": {
      "text/plain": [
       "dict_keys(['client-id', 'api-key'])"
      ]
     },
     "execution_count": 2,
     "metadata": {},
     "output_type": "execute_result"
    }
   ],
   "source": [
    "# Load API credentials using the JSON module\n",
    "with open('/Users/rdbha/.secret/yelp_api.json') as f: \n",
    "    login = json.load(f)\n",
    "login.keys()"
   ]
  },
  {
   "cell_type": "code",
   "execution_count": 3,
   "id": "62aba65d",
   "metadata": {},
   "outputs": [],
   "source": [
    "# Instantiate YelpAPI Variable\n",
    "yelp_api = YelpAPI(login['api-key'], timeout_s=5.0)"
   ]
  },
  {
   "cell_type": "code",
   "execution_count": 4,
   "id": "aaae5579",
   "metadata": {},
   "outputs": [],
   "source": [
    "# set our API call parameters and filename before the first call\n",
    "LOCATION = 'Greenville, SC'\n",
    "TERM = 'sushi'"
   ]
  },
  {
   "cell_type": "code",
   "execution_count": 5,
   "id": "0391e2c1",
   "metadata": {},
   "outputs": [
    {
     "data": {
      "text/plain": [
       "'Data/results_in_progress_sushi.json'"
      ]
     },
     "execution_count": 5,
     "metadata": {},
     "output_type": "execute_result"
    }
   ],
   "source": [
    "# Specifying JSON_FILE filename (can include a folder)\n",
    "# include the search terms in the filename\n",
    "JSON_FILE = f\"Data/results_in_progress_sushi.json\"\n",
    "JSON_FILE"
   ]
  },
  {
   "cell_type": "code",
   "execution_count": 6,
   "id": "fd5d6743",
   "metadata": {},
   "outputs": [
    {
     "name": "stdout",
     "output_type": "stream",
     "text": [
      "[i] Data/results_in_progress_sushi.json not found. Saving empty list to file.\n"
     ]
    }
   ],
   "source": [
    "## Check if JSON_FILE exists\n",
    "file_exists = os.path.isfile(JSON_FILE)\n",
    "## If it does not exist: \n",
    "if file_exists == False:\n",
    "    \n",
    "    ## CREATE ANY NEEDED FOLDERS\n",
    "    # Get the Folder Name only\n",
    "    folder = os.path.dirname(JSON_FILE)\n",
    "    ## If JSON_FILE included a folder:\n",
    "    if len(folder)>0:\n",
    "        # create the folder\n",
    "        os.makedirs(folder,exist_ok=True)\n",
    "        \n",
    "        \n",
    "    ## INFORM USER AND SAVE EMPTY LIST\n",
    "    print(f\"[i] {JSON_FILE} not found. Saving empty list to file.\")\n",
    "    \n",
    "    \n",
    "    ## save the first page of results\n",
    "    with open(JSON_FILE,'w') as f:\n",
    "        json.dump([],f)  \n",
    "## If it exists, inform user\n",
    "else:\n",
    "    print(f\"[i] {JSON_FILE} already exists.\")"
   ]
  },
  {
   "cell_type": "code",
   "execution_count": 7,
   "id": "3df064fc",
   "metadata": {},
   "outputs": [
    {
     "name": "stdout",
     "output_type": "stream",
     "text": [
      "- 0 previous results found.\n"
     ]
    }
   ],
   "source": [
    "## Load previous results and use len of results for offset\n",
    "with open(JSON_FILE,'r') as f:\n",
    "    previous_results = json.load(f)\n",
    "    \n",
    "## set offset based on previous results\n",
    "n_results = len(previous_results)\n",
    "print(f'- {n_results} previous results found.')"
   ]
  },
  {
   "cell_type": "code",
   "execution_count": 8,
   "id": "61e4d70d",
   "metadata": {},
   "outputs": [
    {
     "data": {
      "text/plain": [
       "dict_keys(['businesses', 'total', 'region'])"
      ]
     },
     "execution_count": 8,
     "metadata": {},
     "output_type": "execute_result"
    }
   ],
   "source": [
    "# use our yelp_api variable's search_query method to perform our API call\n",
    "results = yelp_api.search_query(location=LOCATION,\n",
    "                                term=TERM,\n",
    "                               offset=n_results)\n",
    "results.keys()"
   ]
  },
  {
   "cell_type": "code",
   "execution_count": 9,
   "id": "d622b1ba",
   "metadata": {},
   "outputs": [
    {
     "data": {
      "text/plain": [
       "99"
      ]
     },
     "execution_count": 9,
     "metadata": {},
     "output_type": "execute_result"
    }
   ],
   "source": [
    "## How many results total?\n",
    "total_results = results['total']\n",
    "total_results"
   ]
  },
  {
   "cell_type": "code",
   "execution_count": 10,
   "id": "33e2120b",
   "metadata": {},
   "outputs": [
    {
     "data": {
      "text/plain": [
       "20"
      ]
     },
     "execution_count": 10,
     "metadata": {},
     "output_type": "execute_result"
    }
   ],
   "source": [
    "## How many did we get the details for?\n",
    "results_per_page = len(results['businesses'])\n",
    "results_per_page"
   ]
  },
  {
   "cell_type": "code",
   "execution_count": 11,
   "id": "e70ec73b",
   "metadata": {},
   "outputs": [
    {
     "data": {
      "text/plain": [
       "5"
      ]
     },
     "execution_count": 11,
     "metadata": {},
     "output_type": "execute_result"
    }
   ],
   "source": [
    "# Import additional packages for controlling our loop\n",
    "import time, math\n",
    "# Use math.ceil to round up for the total number of pages of results.\n",
    "n_pages = math.ceil((results['total']-n_results)/ results_per_page)\n",
    "n_pages"
   ]
  },
  {
   "cell_type": "code",
   "execution_count": 12,
   "id": "87e03efd",
   "metadata": {},
   "outputs": [],
   "source": [
    "# join new results with old list with extend and save to file\n",
    "previous_results.extend(results['businesses'])  \n",
    "with open(JSON_FILE,'w') as f:\n",
    "     json.dump(previous_results,f)"
   ]
  },
  {
   "cell_type": "code",
   "execution_count": 13,
   "id": "bb23d97b",
   "metadata": {},
   "outputs": [
    {
     "data": {
      "application/vnd.jupyter.widget-view+json": {
       "model_id": "d8636938f2c3490bb98f6ffa9d2b4237",
       "version_major": 2,
       "version_minor": 0
      },
      "text/plain": [
       "  0%|          | 0/5 [00:00<?, ?it/s]"
      ]
     },
     "metadata": {},
     "output_type": "display_data"
    }
   ],
   "source": [
    "for i in tqdm_notebook( range(1,n_pages+1)):\n",
    "    time.sleep(.2)\n",
    "    ## Read in results in progress file and check the length\n",
    "    with open(JSON_FILE, 'r') as f:\n",
    "        previous_results = json.load(f)\n",
    "    ## save number of results for to use as offset\n",
    "    n_results = len(previous_results)\n",
    "    ## use n_results as the OFFSET \n",
    "    results = yelp_api.search_query(location=LOCATION,\n",
    "                                    term=TERM, \n",
    "                                    offset=n_results)\n",
    "    \n",
    "    ## append new results and save to file\n",
    "    previous_results.extend(results['businesses'])\n",
    "    \n",
    "#     display(previous_results)\n",
    "    with open(JSON_FILE,'w') as f:\n",
    "        json.dump(previous_results,f)"
   ]
  },
  {
   "cell_type": "code",
   "execution_count": 14,
   "id": "45b032e8",
   "metadata": {
    "scrolled": true
   },
   "outputs": [
    {
     "data": {
      "text/html": [
       "<div>\n",
       "<style scoped>\n",
       "    .dataframe tbody tr th:only-of-type {\n",
       "        vertical-align: middle;\n",
       "    }\n",
       "\n",
       "    .dataframe tbody tr th {\n",
       "        vertical-align: top;\n",
       "    }\n",
       "\n",
       "    .dataframe thead th {\n",
       "        text-align: right;\n",
       "    }\n",
       "</style>\n",
       "<table border=\"1\" class=\"dataframe\">\n",
       "  <thead>\n",
       "    <tr style=\"text-align: right;\">\n",
       "      <th></th>\n",
       "      <th>id</th>\n",
       "      <th>alias</th>\n",
       "      <th>name</th>\n",
       "      <th>image_url</th>\n",
       "      <th>is_closed</th>\n",
       "      <th>url</th>\n",
       "      <th>review_count</th>\n",
       "      <th>categories</th>\n",
       "      <th>rating</th>\n",
       "      <th>coordinates</th>\n",
       "      <th>transactions</th>\n",
       "      <th>price</th>\n",
       "      <th>location</th>\n",
       "      <th>phone</th>\n",
       "      <th>display_phone</th>\n",
       "      <th>distance</th>\n",
       "    </tr>\n",
       "  </thead>\n",
       "  <tbody>\n",
       "    <tr>\n",
       "      <th>0</th>\n",
       "      <td>zG_XOAFi9Y560WJ1RvghBw</td>\n",
       "      <td>sushi-masa-japanese-restaurant-greenville</td>\n",
       "      <td>Sushi-Masa Japanese Restaurant</td>\n",
       "      <td>https://s3-media1.fl.yelpcdn.com/bphoto/zsRavZ...</td>\n",
       "      <td>False</td>\n",
       "      <td>https://www.yelp.com/biz/sushi-masa-japanese-r...</td>\n",
       "      <td>145</td>\n",
       "      <td>[{'alias': 'sushi', 'title': 'Sushi Bars'}]</td>\n",
       "      <td>4.5</td>\n",
       "      <td>{'latitude': 34.8512725830078, 'longitude': -8...</td>\n",
       "      <td>[delivery]</td>\n",
       "      <td>$$</td>\n",
       "      <td>{'address1': '8590 Pelham Rd', 'address2': 'St...</td>\n",
       "      <td>+18642882227</td>\n",
       "      <td>(864) 288-2227</td>\n",
       "      <td>11481.830881</td>\n",
       "    </tr>\n",
       "    <tr>\n",
       "      <th>1</th>\n",
       "      <td>RGRk1ioORwm_FIX8PM732Q</td>\n",
       "      <td>konnichiwa-greenville</td>\n",
       "      <td>Konnichiwa</td>\n",
       "      <td>https://s3-media3.fl.yelpcdn.com/bphoto/FU6pBh...</td>\n",
       "      <td>False</td>\n",
       "      <td>https://www.yelp.com/biz/konnichiwa-greenville...</td>\n",
       "      <td>17</td>\n",
       "      <td>[{'alias': 'sushi', 'title': 'Sushi Bars'}, {'...</td>\n",
       "      <td>4.0</td>\n",
       "      <td>{'latitude': 34.845952342825115, 'longitude': ...</td>\n",
       "      <td>[]</td>\n",
       "      <td>NaN</td>\n",
       "      <td>{'address1': '101 Falls Park Dr', 'address2': ...</td>\n",
       "      <td>+18642524436</td>\n",
       "      <td>(864) 252-4436</td>\n",
       "      <td>4184.255183</td>\n",
       "    </tr>\n",
       "    <tr>\n",
       "      <th>2</th>\n",
       "      <td>7cJxOV-ANX1qLThK3yV96w</td>\n",
       "      <td>otto-izakaya-greenville-4</td>\n",
       "      <td>Otto Izakaya</td>\n",
       "      <td>https://s3-media1.fl.yelpcdn.com/bphoto/TdPhFy...</td>\n",
       "      <td>False</td>\n",
       "      <td>https://www.yelp.com/biz/otto-izakaya-greenvil...</td>\n",
       "      <td>393</td>\n",
       "      <td>[{'alias': 'japanese', 'title': 'Japanese'}, {...</td>\n",
       "      <td>4.0</td>\n",
       "      <td>{'latitude': 34.8228218820722, 'longitude': -8...</td>\n",
       "      <td>[delivery]</td>\n",
       "      <td>$$</td>\n",
       "      <td>{'address1': '15 Market Point Dr', 'address2':...</td>\n",
       "      <td>+18645688009</td>\n",
       "      <td>(864) 568-8009</td>\n",
       "      <td>5933.485357</td>\n",
       "    </tr>\n",
       "    <tr>\n",
       "      <th>3</th>\n",
       "      <td>VU0mq_4iDCZ3w1pDcbGiuQ</td>\n",
       "      <td>love-sushi-greenville-4</td>\n",
       "      <td>Love Sushi</td>\n",
       "      <td>https://s3-media3.fl.yelpcdn.com/bphoto/zHiqdu...</td>\n",
       "      <td>False</td>\n",
       "      <td>https://www.yelp.com/biz/love-sushi-greenville...</td>\n",
       "      <td>14</td>\n",
       "      <td>[{'alias': 'japanese', 'title': 'Japanese'}]</td>\n",
       "      <td>5.0</td>\n",
       "      <td>{'latitude': 34.82095, 'longitude': -82.25788}</td>\n",
       "      <td>[]</td>\n",
       "      <td>NaN</td>\n",
       "      <td>{'address1': '2131 Woodruff Rd', 'address2': '...</td>\n",
       "      <td>+18646756360</td>\n",
       "      <td>(864) 675-6360</td>\n",
       "      <td>9540.226675</td>\n",
       "    </tr>\n",
       "    <tr>\n",
       "      <th>4</th>\n",
       "      <td>dvgaR-1sAfuHSi4_ZKXmwQ</td>\n",
       "      <td>sushi-murasaki-greenville</td>\n",
       "      <td>Sushi Murasaki</td>\n",
       "      <td>https://s3-media4.fl.yelpcdn.com/bphoto/sKCCZu...</td>\n",
       "      <td>False</td>\n",
       "      <td>https://www.yelp.com/biz/sushi-murasaki-greenv...</td>\n",
       "      <td>207</td>\n",
       "      <td>[{'alias': 'sushi', 'title': 'Sushi Bars'}, {'...</td>\n",
       "      <td>3.5</td>\n",
       "      <td>{'latitude': 34.8506663, 'longitude': -82.3992...</td>\n",
       "      <td>[pickup, delivery]</td>\n",
       "      <td>$$</td>\n",
       "      <td>{'address1': '2 S Main St', 'address2': '', 'a...</td>\n",
       "      <td>+18642712452</td>\n",
       "      <td>(864) 271-2452</td>\n",
       "      <td>3808.715842</td>\n",
       "    </tr>\n",
       "  </tbody>\n",
       "</table>\n",
       "</div>"
      ],
      "text/plain": [
       "                       id                                      alias  \\\n",
       "0  zG_XOAFi9Y560WJ1RvghBw  sushi-masa-japanese-restaurant-greenville   \n",
       "1  RGRk1ioORwm_FIX8PM732Q                      konnichiwa-greenville   \n",
       "2  7cJxOV-ANX1qLThK3yV96w                  otto-izakaya-greenville-4   \n",
       "3  VU0mq_4iDCZ3w1pDcbGiuQ                    love-sushi-greenville-4   \n",
       "4  dvgaR-1sAfuHSi4_ZKXmwQ                  sushi-murasaki-greenville   \n",
       "\n",
       "                             name  \\\n",
       "0  Sushi-Masa Japanese Restaurant   \n",
       "1                      Konnichiwa   \n",
       "2                    Otto Izakaya   \n",
       "3                      Love Sushi   \n",
       "4                  Sushi Murasaki   \n",
       "\n",
       "                                           image_url  is_closed  \\\n",
       "0  https://s3-media1.fl.yelpcdn.com/bphoto/zsRavZ...      False   \n",
       "1  https://s3-media3.fl.yelpcdn.com/bphoto/FU6pBh...      False   \n",
       "2  https://s3-media1.fl.yelpcdn.com/bphoto/TdPhFy...      False   \n",
       "3  https://s3-media3.fl.yelpcdn.com/bphoto/zHiqdu...      False   \n",
       "4  https://s3-media4.fl.yelpcdn.com/bphoto/sKCCZu...      False   \n",
       "\n",
       "                                                 url  review_count  \\\n",
       "0  https://www.yelp.com/biz/sushi-masa-japanese-r...           145   \n",
       "1  https://www.yelp.com/biz/konnichiwa-greenville...            17   \n",
       "2  https://www.yelp.com/biz/otto-izakaya-greenvil...           393   \n",
       "3  https://www.yelp.com/biz/love-sushi-greenville...            14   \n",
       "4  https://www.yelp.com/biz/sushi-murasaki-greenv...           207   \n",
       "\n",
       "                                          categories  rating  \\\n",
       "0        [{'alias': 'sushi', 'title': 'Sushi Bars'}]     4.5   \n",
       "1  [{'alias': 'sushi', 'title': 'Sushi Bars'}, {'...     4.0   \n",
       "2  [{'alias': 'japanese', 'title': 'Japanese'}, {...     4.0   \n",
       "3       [{'alias': 'japanese', 'title': 'Japanese'}]     5.0   \n",
       "4  [{'alias': 'sushi', 'title': 'Sushi Bars'}, {'...     3.5   \n",
       "\n",
       "                                         coordinates        transactions  \\\n",
       "0  {'latitude': 34.8512725830078, 'longitude': -8...          [delivery]   \n",
       "1  {'latitude': 34.845952342825115, 'longitude': ...                  []   \n",
       "2  {'latitude': 34.8228218820722, 'longitude': -8...          [delivery]   \n",
       "3     {'latitude': 34.82095, 'longitude': -82.25788}                  []   \n",
       "4  {'latitude': 34.8506663, 'longitude': -82.3992...  [pickup, delivery]   \n",
       "\n",
       "  price                                           location         phone  \\\n",
       "0    $$  {'address1': '8590 Pelham Rd', 'address2': 'St...  +18642882227   \n",
       "1   NaN  {'address1': '101 Falls Park Dr', 'address2': ...  +18642524436   \n",
       "2    $$  {'address1': '15 Market Point Dr', 'address2':...  +18645688009   \n",
       "3   NaN  {'address1': '2131 Woodruff Rd', 'address2': '...  +18646756360   \n",
       "4    $$  {'address1': '2 S Main St', 'address2': '', 'a...  +18642712452   \n",
       "\n",
       "    display_phone      distance  \n",
       "0  (864) 288-2227  11481.830881  \n",
       "1  (864) 252-4436   4184.255183  \n",
       "2  (864) 568-8009   5933.485357  \n",
       "3  (864) 675-6360   9540.226675  \n",
       "4  (864) 271-2452   3808.715842  "
      ]
     },
     "metadata": {},
     "output_type": "display_data"
    },
    {
     "data": {
      "text/html": [
       "<div>\n",
       "<style scoped>\n",
       "    .dataframe tbody tr th:only-of-type {\n",
       "        vertical-align: middle;\n",
       "    }\n",
       "\n",
       "    .dataframe tbody tr th {\n",
       "        vertical-align: top;\n",
       "    }\n",
       "\n",
       "    .dataframe thead th {\n",
       "        text-align: right;\n",
       "    }\n",
       "</style>\n",
       "<table border=\"1\" class=\"dataframe\">\n",
       "  <thead>\n",
       "    <tr style=\"text-align: right;\">\n",
       "      <th></th>\n",
       "      <th>id</th>\n",
       "      <th>alias</th>\n",
       "      <th>name</th>\n",
       "      <th>image_url</th>\n",
       "      <th>is_closed</th>\n",
       "      <th>url</th>\n",
       "      <th>review_count</th>\n",
       "      <th>categories</th>\n",
       "      <th>rating</th>\n",
       "      <th>coordinates</th>\n",
       "      <th>transactions</th>\n",
       "      <th>price</th>\n",
       "      <th>location</th>\n",
       "      <th>phone</th>\n",
       "      <th>display_phone</th>\n",
       "      <th>distance</th>\n",
       "    </tr>\n",
       "  </thead>\n",
       "  <tbody>\n",
       "    <tr>\n",
       "      <th>94</th>\n",
       "      <td>xQZIvcjkH2R14yaHr2qQYQ</td>\n",
       "      <td>the-cheesecake-factory-greenville-greenville</td>\n",
       "      <td>The Cheesecake Factory - Greenville</td>\n",
       "      <td>https://s3-media2.fl.yelpcdn.com/bphoto/SUrPQg...</td>\n",
       "      <td>False</td>\n",
       "      <td>https://www.yelp.com/biz/the-cheesecake-factor...</td>\n",
       "      <td>400</td>\n",
       "      <td>[{'alias': 'desserts', 'title': 'Desserts'}, {...</td>\n",
       "      <td>3.0</td>\n",
       "      <td>{'latitude': 34.8499166, 'longitude': -82.3335...</td>\n",
       "      <td>[delivery, restaurant_reservation]</td>\n",
       "      <td>$$</td>\n",
       "      <td>{'address1': '700 Haywood Mall', 'address2': '...</td>\n",
       "      <td>+18642884444</td>\n",
       "      <td>(864) 288-4444</td>\n",
       "      <td>2209.333296</td>\n",
       "    </tr>\n",
       "    <tr>\n",
       "      <th>95</th>\n",
       "      <td>gUsB3gAE413Ezd3P6IxlmA</td>\n",
       "      <td>7-eleven-piedmont</td>\n",
       "      <td>7-Eleven</td>\n",
       "      <td></td>\n",
       "      <td>False</td>\n",
       "      <td>https://www.yelp.com/biz/7-eleven-piedmont?adj...</td>\n",
       "      <td>5</td>\n",
       "      <td>[{'alias': 'servicestations', 'title': 'Gas St...</td>\n",
       "      <td>2.0</td>\n",
       "      <td>{'latitude': 34.6970574719195, 'longitude': -8...</td>\n",
       "      <td>[delivery, pickup]</td>\n",
       "      <td>$</td>\n",
       "      <td>{'address1': '7803 Augusta Rd', 'address2': ''...</td>\n",
       "      <td>+18642772316</td>\n",
       "      <td>(864) 277-2316</td>\n",
       "      <td>17107.266905</td>\n",
       "    </tr>\n",
       "    <tr>\n",
       "      <th>96</th>\n",
       "      <td>_Ptzoh-8-8vJT_OF7t9TLQ</td>\n",
       "      <td>sprouts-farmers-market-simpsonville</td>\n",
       "      <td>Sprouts Farmers Market</td>\n",
       "      <td>https://s3-media3.fl.yelpcdn.com/bphoto/C1Xlae...</td>\n",
       "      <td>False</td>\n",
       "      <td>https://www.yelp.com/biz/sprouts-farmers-marke...</td>\n",
       "      <td>31</td>\n",
       "      <td>[{'alias': 'healthmarkets', 'title': 'Health M...</td>\n",
       "      <td>4.0</td>\n",
       "      <td>{'latitude': 34.8186242, 'longitude': -82.255452}</td>\n",
       "      <td>[]</td>\n",
       "      <td>NaN</td>\n",
       "      <td>{'address1': '2200 Woodruff Rd', 'address2': '...</td>\n",
       "      <td>+18647573240</td>\n",
       "      <td>(864) 757-3240</td>\n",
       "      <td>9866.418853</td>\n",
       "    </tr>\n",
       "    <tr>\n",
       "      <th>97</th>\n",
       "      <td>Ld7D2rUr627TNkoIdRkXwQ</td>\n",
       "      <td>lowes-foods-greenville-2</td>\n",
       "      <td>Lowes Foods</td>\n",
       "      <td>https://s3-media3.fl.yelpcdn.com/bphoto/3h-jGP...</td>\n",
       "      <td>False</td>\n",
       "      <td>https://www.yelp.com/biz/lowes-foods-greenvill...</td>\n",
       "      <td>5</td>\n",
       "      <td>[{'alias': 'grocery', 'title': 'Grocery'}]</td>\n",
       "      <td>3.0</td>\n",
       "      <td>{'latitude': 34.86149155901255, 'longitude': -...</td>\n",
       "      <td>[]</td>\n",
       "      <td>NaN</td>\n",
       "      <td>{'address1': '3619 Pelham Rd', 'address2': '',...</td>\n",
       "      <td>+18642884162</td>\n",
       "      <td>(864) 288-4162</td>\n",
       "      <td>8304.264308</td>\n",
       "    </tr>\n",
       "    <tr>\n",
       "      <th>98</th>\n",
       "      <td>xb9QSdbk63Ani2-S5MrIHQ</td>\n",
       "      <td>harris-teeter-greenville-6</td>\n",
       "      <td>Harris Teeter</td>\n",
       "      <td>https://s3-media3.fl.yelpcdn.com/bphoto/ZelRSg...</td>\n",
       "      <td>False</td>\n",
       "      <td>https://www.yelp.com/biz/harris-teeter-greenvi...</td>\n",
       "      <td>24</td>\n",
       "      <td>[{'alias': 'grocery', 'title': 'Grocery'}, {'a...</td>\n",
       "      <td>3.5</td>\n",
       "      <td>{'latitude': 34.8279736, 'longitude': -82.3987...</td>\n",
       "      <td>[]</td>\n",
       "      <td>$$</td>\n",
       "      <td>{'address1': '1720 Augusta St', 'address2': ''...</td>\n",
       "      <td>+18649778041</td>\n",
       "      <td>(864) 977-8041</td>\n",
       "      <td>4335.688854</td>\n",
       "    </tr>\n",
       "  </tbody>\n",
       "</table>\n",
       "</div>"
      ],
      "text/plain": [
       "                        id                                         alias  \\\n",
       "94  xQZIvcjkH2R14yaHr2qQYQ  the-cheesecake-factory-greenville-greenville   \n",
       "95  gUsB3gAE413Ezd3P6IxlmA                             7-eleven-piedmont   \n",
       "96  _Ptzoh-8-8vJT_OF7t9TLQ           sprouts-farmers-market-simpsonville   \n",
       "97  Ld7D2rUr627TNkoIdRkXwQ                      lowes-foods-greenville-2   \n",
       "98  xb9QSdbk63Ani2-S5MrIHQ                    harris-teeter-greenville-6   \n",
       "\n",
       "                                   name  \\\n",
       "94  The Cheesecake Factory - Greenville   \n",
       "95                             7-Eleven   \n",
       "96               Sprouts Farmers Market   \n",
       "97                          Lowes Foods   \n",
       "98                        Harris Teeter   \n",
       "\n",
       "                                            image_url  is_closed  \\\n",
       "94  https://s3-media2.fl.yelpcdn.com/bphoto/SUrPQg...      False   \n",
       "95                                                         False   \n",
       "96  https://s3-media3.fl.yelpcdn.com/bphoto/C1Xlae...      False   \n",
       "97  https://s3-media3.fl.yelpcdn.com/bphoto/3h-jGP...      False   \n",
       "98  https://s3-media3.fl.yelpcdn.com/bphoto/ZelRSg...      False   \n",
       "\n",
       "                                                  url  review_count  \\\n",
       "94  https://www.yelp.com/biz/the-cheesecake-factor...           400   \n",
       "95  https://www.yelp.com/biz/7-eleven-piedmont?adj...             5   \n",
       "96  https://www.yelp.com/biz/sprouts-farmers-marke...            31   \n",
       "97  https://www.yelp.com/biz/lowes-foods-greenvill...             5   \n",
       "98  https://www.yelp.com/biz/harris-teeter-greenvi...            24   \n",
       "\n",
       "                                           categories  rating  \\\n",
       "94  [{'alias': 'desserts', 'title': 'Desserts'}, {...     3.0   \n",
       "95  [{'alias': 'servicestations', 'title': 'Gas St...     2.0   \n",
       "96  [{'alias': 'healthmarkets', 'title': 'Health M...     4.0   \n",
       "97         [{'alias': 'grocery', 'title': 'Grocery'}]     3.0   \n",
       "98  [{'alias': 'grocery', 'title': 'Grocery'}, {'a...     3.5   \n",
       "\n",
       "                                          coordinates  \\\n",
       "94  {'latitude': 34.8499166, 'longitude': -82.3335...   \n",
       "95  {'latitude': 34.6970574719195, 'longitude': -8...   \n",
       "96  {'latitude': 34.8186242, 'longitude': -82.255452}   \n",
       "97  {'latitude': 34.86149155901255, 'longitude': -...   \n",
       "98  {'latitude': 34.8279736, 'longitude': -82.3987...   \n",
       "\n",
       "                          transactions price  \\\n",
       "94  [delivery, restaurant_reservation]    $$   \n",
       "95                  [delivery, pickup]     $   \n",
       "96                                  []   NaN   \n",
       "97                                  []   NaN   \n",
       "98                                  []    $$   \n",
       "\n",
       "                                             location         phone  \\\n",
       "94  {'address1': '700 Haywood Mall', 'address2': '...  +18642884444   \n",
       "95  {'address1': '7803 Augusta Rd', 'address2': ''...  +18642772316   \n",
       "96  {'address1': '2200 Woodruff Rd', 'address2': '...  +18647573240   \n",
       "97  {'address1': '3619 Pelham Rd', 'address2': '',...  +18642884162   \n",
       "98  {'address1': '1720 Augusta St', 'address2': ''...  +18649778041   \n",
       "\n",
       "     display_phone      distance  \n",
       "94  (864) 288-4444   2209.333296  \n",
       "95  (864) 277-2316  17107.266905  \n",
       "96  (864) 757-3240   9866.418853  \n",
       "97  (864) 288-4162   8304.264308  \n",
       "98  (864) 977-8041   4335.688854  "
      ]
     },
     "metadata": {},
     "output_type": "display_data"
    }
   ],
   "source": [
    "# load final results\n",
    "final_df = pd.read_json(JSON_FILE)\n",
    "display(final_df.head(), final_df.tail())"
   ]
  },
  {
   "cell_type": "code",
   "execution_count": 15,
   "id": "7849245e",
   "metadata": {},
   "outputs": [
    {
     "data": {
      "text/plain": [
       "0"
      ]
     },
     "execution_count": 15,
     "metadata": {},
     "output_type": "execute_result"
    }
   ],
   "source": [
    "# check for duplicate IDs\n",
    "final_df.duplicated(subset='id').sum()"
   ]
  },
  {
   "cell_type": "code",
   "execution_count": 16,
   "id": "3e65effa",
   "metadata": {},
   "outputs": [],
   "source": [
    "# save the final results to a compressed csv\n",
    "final_df.to_csv('Data/final_results_sushi.csv.gz', compression='gzip',index=False)"
   ]
  },
  {
   "cell_type": "code",
   "execution_count": null,
   "id": "cc4be011",
   "metadata": {},
   "outputs": [],
   "source": []
  }
 ],
 "metadata": {
  "kernelspec": {
   "display_name": "Python (dojo-env)",
   "language": "python",
   "name": "dojo-env"
  },
  "language_info": {
   "codemirror_mode": {
    "name": "ipython",
    "version": 3
   },
   "file_extension": ".py",
   "mimetype": "text/x-python",
   "name": "python",
   "nbconvert_exporter": "python",
   "pygments_lexer": "ipython3",
   "version": "3.8.13"
  },
  "toc": {
   "base_numbering": 1,
   "nav_menu": {},
   "number_sections": false,
   "sideBar": true,
   "skip_h1_title": false,
   "title_cell": "Table of Contents",
   "title_sidebar": "Contents",
   "toc_cell": false,
   "toc_position": {},
   "toc_section_display": true,
   "toc_window_display": false
  }
 },
 "nbformat": 4,
 "nbformat_minor": 5
}
